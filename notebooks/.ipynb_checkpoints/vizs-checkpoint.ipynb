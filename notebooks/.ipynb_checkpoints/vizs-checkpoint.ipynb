{
 "cells": [
  {
   "cell_type": "code",
   "execution_count": 1,
   "id": "17851cb4",
   "metadata": {},
   "outputs": [],
   "source": [
    "import seaborn as sns\n",
    "import pandas as pd\n",
    "pd.set_option('mode.chained_assignment',None)"
   ]
  },
  {
   "cell_type": "code",
   "execution_count": null,
   "id": "6654aaaf",
   "metadata": {},
   "outputs": [],
   "source": [
    "df = pd.read_csv('../spims-dump.csv')\n",
    "df.head(20)"
   ]
  },
  {
   "cell_type": "code",
   "execution_count": 3,
   "id": "92259d3b",
   "metadata": {},
   "outputs": [
    {
     "data": {
      "text/html": [
       "<div>\n",
       "<style scoped>\n",
       "    .dataframe tbody tr th:only-of-type {\n",
       "        vertical-align: middle;\n",
       "    }\n",
       "\n",
       "    .dataframe tbody tr th {\n",
       "        vertical-align: top;\n",
       "    }\n",
       "\n",
       "    .dataframe thead th {\n",
       "        text-align: right;\n",
       "    }\n",
       "</style>\n",
       "<table border=\"1\" class=\"dataframe\">\n",
       "  <thead>\n",
       "    <tr style=\"text-align: right;\">\n",
       "      <th></th>\n",
       "      <th>layer_idx</th>\n",
       "      <th>term</th>\n",
       "      <th>metric</th>\n",
       "    </tr>\n",
       "  </thead>\n",
       "  <tbody>\n",
       "    <tr>\n",
       "      <th>1004</th>\n",
       "      <td>6</td>\n",
       "      <td>C</td>\n",
       "      <td>0.440062</td>\n",
       "    </tr>\n",
       "    <tr>\n",
       "      <th>219330</th>\n",
       "      <td>3</td>\n",
       "      <td>F</td>\n",
       "      <td>0.487119</td>\n",
       "    </tr>\n",
       "    <tr>\n",
       "      <th>39457</th>\n",
       "      <td>1</td>\n",
       "      <td>C</td>\n",
       "      <td>0.071036</td>\n",
       "    </tr>\n",
       "    <tr>\n",
       "      <th>64569</th>\n",
       "      <td>1</td>\n",
       "      <td>F</td>\n",
       "      <td>0.678276</td>\n",
       "    </tr>\n",
       "    <tr>\n",
       "      <th>352104</th>\n",
       "      <td>6</td>\n",
       "      <td>T</td>\n",
       "      <td>0.276688</td>\n",
       "    </tr>\n",
       "    <tr>\n",
       "      <th>200319</th>\n",
       "      <td>1</td>\n",
       "      <td>T</td>\n",
       "      <td>0.088505</td>\n",
       "    </tr>\n",
       "    <tr>\n",
       "      <th>195898</th>\n",
       "      <td>1</td>\n",
       "      <td>T</td>\n",
       "      <td>0.048327</td>\n",
       "    </tr>\n",
       "    <tr>\n",
       "      <th>117942</th>\n",
       "      <td>2</td>\n",
       "      <td>T</td>\n",
       "      <td>0.174994</td>\n",
       "    </tr>\n",
       "    <tr>\n",
       "      <th>225577</th>\n",
       "      <td>4</td>\n",
       "      <td>T</td>\n",
       "      <td>0.362503</td>\n",
       "    </tr>\n",
       "    <tr>\n",
       "      <th>99793</th>\n",
       "      <td>1</td>\n",
       "      <td>S</td>\n",
       "      <td>0.010708</td>\n",
       "    </tr>\n",
       "  </tbody>\n",
       "</table>\n",
       "</div>"
      ],
      "text/plain": [
       "        layer_idx term    metric\n",
       "1004            6    C  0.440062\n",
       "219330          3    F  0.487119\n",
       "39457           1    C  0.071036\n",
       "64569           1    F  0.678276\n",
       "352104          6    T  0.276688\n",
       "200319          1    T  0.088505\n",
       "195898          1    T  0.048327\n",
       "117942          2    T  0.174994\n",
       "225577          4    T  0.362503\n",
       "99793           1    S  0.010708"
      ]
     },
     "execution_count": 3,
     "metadata": {},
     "output_type": "execute_result"
    }
   ],
   "source": [
    "sub_dfs = []\n",
    "for term in 'ISTFC':\n",
    "    sub_df = df[['layer_idx', term]]\n",
    "    sub_df['term'] = term\n",
    "    sub_df['metric'] = sub_df[term]\n",
    "    del sub_df[term]\n",
    "    sub_dfs.append(sub_df)\n",
    "melt = pd.concat(sub_dfs)\n",
    "melt.sample(10)"
   ]
  },
  {
   "cell_type": "code",
   "execution_count": null,
   "id": "d771ad95",
   "metadata": {},
   "outputs": [],
   "source": [
    "sns.lineplot(x='layer_idx', y='metric', hue='term', data=melt.sample(frac=1.0).reset_index(), ci='sd')"
   ]
  }
 ],
 "metadata": {
  "kernelspec": {
   "display_name": "Python 3 (ipykernel)",
   "language": "python",
   "name": "python3"
  },
  "language_info": {
   "codemirror_mode": {
    "name": "ipython",
    "version": 3
   },
   "file_extension": ".py",
   "mimetype": "text/x-python",
   "name": "python",
   "nbconvert_exporter": "python",
   "pygments_lexer": "ipython3",
   "version": "3.8.10"
  }
 },
 "nbformat": 4,
 "nbformat_minor": 5
}
